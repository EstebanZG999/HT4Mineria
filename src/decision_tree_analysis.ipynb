{
 "cells": [
  {
   "cell_type": "markdown",
   "metadata": {},
   "source": [
    "# Árboles de Decisión"
   ]
  },
  {
   "cell_type": "markdown",
   "metadata": {},
   "source": [
    "### Carga e Inspección de Datos\n"
   ]
  },
  {
   "cell_type": "code",
   "execution_count": null,
   "metadata": {},
   "outputs": [],
   "source": [
    "import pandas as pd\n",
    "import numpy as np\n",
    "import matplotlib.pyplot as plt\n",
    "import seaborn as sns\n",
    "from sklearn.model_selection import train_test_split\n",
    "\n",
    "data_path = \"../data/train.csv\"\n",
    "\n",
    "# Cargar los datos\n",
    "df = pd.read_csv(data_path)\n",
    "\n",
    "# Inspección inicial\n",
    "display(df.head())\n",
    "display(df.info())\n",
    "display(df.describe())\n",
    "\n",
    "# Visualización de la distribución de precios\n",
    "plt.figure(figsize=(10,5))\n",
    "sns.histplot(df['SalePrice'], kde=True, bins=30)\n",
    "plt.title(\"Distribución de Precios de Casas\")\n",
    "plt.xlabel(\"Precio de Venta\")\n",
    "plt.ylabel(\"Frecuencia\")\n",
    "plt.show()\n",
    "\n",
    "# Verificar valores nulos\n",
    "missing_values = df.isnull().sum().sort_values(ascending=False)\n",
    "missing_values = missing_values[missing_values > 0]\n",
    "display(missing_values)\n",
    "\n",
    "# Definir categorías de precios\n",
    "q1 = df['SalePrice'].quantile(0.33)\n",
    "q2 = df['SalePrice'].quantile(0.66)\n",
    "\n",
    "def categorizar_precio(precio):\n",
    "    if precio <= q1:\n",
    "        return 'Económica'\n",
    "    elif precio <= q2:\n",
    "        return 'Intermedia'\n",
    "    else:\n",
    "        return 'Cara'\n",
    "\n",
    "df['CategoriaPrecio'] = df['SalePrice'].apply(categorizar_precio)\n",
    "\n",
    "display(df[['SalePrice', 'CategoriaPrecio']].head())\n"
   ]
  }
 ],
 "metadata": {
  "language_info": {
   "name": "python"
  }
 },
 "nbformat": 4,
 "nbformat_minor": 2
}
